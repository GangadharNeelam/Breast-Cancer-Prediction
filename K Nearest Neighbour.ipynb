{
 "cells": [
  {
   "cell_type": "code",
   "execution_count": 56,
   "id": "c5c71d56",
   "metadata": {},
   "outputs": [],
   "source": [
    "import random\n",
    "import numpy as np\n",
    "import pandas as pd\n",
    "import matplotlib.pyplot as plt\n",
    "import seaborn as sns\n",
    "import warnings\n",
    "warnings.filterwarnings('ignore')"
   ]
  },
  {
   "cell_type": "code",
   "execution_count": 2,
   "id": "faa79bd9",
   "metadata": {},
   "outputs": [],
   "source": [
    "from sklearn.datasets import load_breast_cancer"
   ]
  },
  {
   "cell_type": "code",
   "execution_count": 5,
   "id": "579e719e",
   "metadata": {},
   "outputs": [],
   "source": [
    "df = load_breast_cancer()\n",
    "data = pd.DataFrame(data = df.data, columns=df.feature_names)"
   ]
  },
  {
   "cell_type": "code",
   "execution_count": 12,
   "id": "babe9bd8",
   "metadata": {},
   "outputs": [
    {
     "data": {
      "text/html": [
       "<div>\n",
       "<style scoped>\n",
       "    .dataframe tbody tr th:only-of-type {\n",
       "        vertical-align: middle;\n",
       "    }\n",
       "\n",
       "    .dataframe tbody tr th {\n",
       "        vertical-align: top;\n",
       "    }\n",
       "\n",
       "    .dataframe thead th {\n",
       "        text-align: right;\n",
       "    }\n",
       "</style>\n",
       "<table border=\"1\" class=\"dataframe\">\n",
       "  <thead>\n",
       "    <tr style=\"text-align: right;\">\n",
       "      <th></th>\n",
       "      <th>mean radius</th>\n",
       "      <th>mean texture</th>\n",
       "      <th>mean perimeter</th>\n",
       "      <th>mean area</th>\n",
       "      <th>mean smoothness</th>\n",
       "      <th>mean compactness</th>\n",
       "      <th>mean concavity</th>\n",
       "      <th>mean concave points</th>\n",
       "      <th>mean symmetry</th>\n",
       "      <th>mean fractal dimension</th>\n",
       "      <th>...</th>\n",
       "      <th>worst texture</th>\n",
       "      <th>worst perimeter</th>\n",
       "      <th>worst area</th>\n",
       "      <th>worst smoothness</th>\n",
       "      <th>worst compactness</th>\n",
       "      <th>worst concavity</th>\n",
       "      <th>worst concave points</th>\n",
       "      <th>worst symmetry</th>\n",
       "      <th>worst fractal dimension</th>\n",
       "      <th>target</th>\n",
       "    </tr>\n",
       "  </thead>\n",
       "  <tbody>\n",
       "    <tr>\n",
       "      <th>0</th>\n",
       "      <td>17.99</td>\n",
       "      <td>10.38</td>\n",
       "      <td>122.80</td>\n",
       "      <td>1001.0</td>\n",
       "      <td>0.11840</td>\n",
       "      <td>0.27760</td>\n",
       "      <td>0.3001</td>\n",
       "      <td>0.14710</td>\n",
       "      <td>0.2419</td>\n",
       "      <td>0.07871</td>\n",
       "      <td>...</td>\n",
       "      <td>17.33</td>\n",
       "      <td>184.60</td>\n",
       "      <td>2019.0</td>\n",
       "      <td>0.1622</td>\n",
       "      <td>0.6656</td>\n",
       "      <td>0.7119</td>\n",
       "      <td>0.2654</td>\n",
       "      <td>0.4601</td>\n",
       "      <td>0.11890</td>\n",
       "      <td>0</td>\n",
       "    </tr>\n",
       "    <tr>\n",
       "      <th>1</th>\n",
       "      <td>20.57</td>\n",
       "      <td>17.77</td>\n",
       "      <td>132.90</td>\n",
       "      <td>1326.0</td>\n",
       "      <td>0.08474</td>\n",
       "      <td>0.07864</td>\n",
       "      <td>0.0869</td>\n",
       "      <td>0.07017</td>\n",
       "      <td>0.1812</td>\n",
       "      <td>0.05667</td>\n",
       "      <td>...</td>\n",
       "      <td>23.41</td>\n",
       "      <td>158.80</td>\n",
       "      <td>1956.0</td>\n",
       "      <td>0.1238</td>\n",
       "      <td>0.1866</td>\n",
       "      <td>0.2416</td>\n",
       "      <td>0.1860</td>\n",
       "      <td>0.2750</td>\n",
       "      <td>0.08902</td>\n",
       "      <td>0</td>\n",
       "    </tr>\n",
       "    <tr>\n",
       "      <th>2</th>\n",
       "      <td>19.69</td>\n",
       "      <td>21.25</td>\n",
       "      <td>130.00</td>\n",
       "      <td>1203.0</td>\n",
       "      <td>0.10960</td>\n",
       "      <td>0.15990</td>\n",
       "      <td>0.1974</td>\n",
       "      <td>0.12790</td>\n",
       "      <td>0.2069</td>\n",
       "      <td>0.05999</td>\n",
       "      <td>...</td>\n",
       "      <td>25.53</td>\n",
       "      <td>152.50</td>\n",
       "      <td>1709.0</td>\n",
       "      <td>0.1444</td>\n",
       "      <td>0.4245</td>\n",
       "      <td>0.4504</td>\n",
       "      <td>0.2430</td>\n",
       "      <td>0.3613</td>\n",
       "      <td>0.08758</td>\n",
       "      <td>0</td>\n",
       "    </tr>\n",
       "    <tr>\n",
       "      <th>3</th>\n",
       "      <td>11.42</td>\n",
       "      <td>20.38</td>\n",
       "      <td>77.58</td>\n",
       "      <td>386.1</td>\n",
       "      <td>0.14250</td>\n",
       "      <td>0.28390</td>\n",
       "      <td>0.2414</td>\n",
       "      <td>0.10520</td>\n",
       "      <td>0.2597</td>\n",
       "      <td>0.09744</td>\n",
       "      <td>...</td>\n",
       "      <td>26.50</td>\n",
       "      <td>98.87</td>\n",
       "      <td>567.7</td>\n",
       "      <td>0.2098</td>\n",
       "      <td>0.8663</td>\n",
       "      <td>0.6869</td>\n",
       "      <td>0.2575</td>\n",
       "      <td>0.6638</td>\n",
       "      <td>0.17300</td>\n",
       "      <td>0</td>\n",
       "    </tr>\n",
       "    <tr>\n",
       "      <th>4</th>\n",
       "      <td>20.29</td>\n",
       "      <td>14.34</td>\n",
       "      <td>135.10</td>\n",
       "      <td>1297.0</td>\n",
       "      <td>0.10030</td>\n",
       "      <td>0.13280</td>\n",
       "      <td>0.1980</td>\n",
       "      <td>0.10430</td>\n",
       "      <td>0.1809</td>\n",
       "      <td>0.05883</td>\n",
       "      <td>...</td>\n",
       "      <td>16.67</td>\n",
       "      <td>152.20</td>\n",
       "      <td>1575.0</td>\n",
       "      <td>0.1374</td>\n",
       "      <td>0.2050</td>\n",
       "      <td>0.4000</td>\n",
       "      <td>0.1625</td>\n",
       "      <td>0.2364</td>\n",
       "      <td>0.07678</td>\n",
       "      <td>0</td>\n",
       "    </tr>\n",
       "  </tbody>\n",
       "</table>\n",
       "<p>5 rows × 31 columns</p>\n",
       "</div>"
      ],
      "text/plain": [
       "   mean radius  mean texture  mean perimeter  mean area  mean smoothness  \\\n",
       "0        17.99         10.38          122.80     1001.0          0.11840   \n",
       "1        20.57         17.77          132.90     1326.0          0.08474   \n",
       "2        19.69         21.25          130.00     1203.0          0.10960   \n",
       "3        11.42         20.38           77.58      386.1          0.14250   \n",
       "4        20.29         14.34          135.10     1297.0          0.10030   \n",
       "\n",
       "   mean compactness  mean concavity  mean concave points  mean symmetry  \\\n",
       "0           0.27760          0.3001              0.14710         0.2419   \n",
       "1           0.07864          0.0869              0.07017         0.1812   \n",
       "2           0.15990          0.1974              0.12790         0.2069   \n",
       "3           0.28390          0.2414              0.10520         0.2597   \n",
       "4           0.13280          0.1980              0.10430         0.1809   \n",
       "\n",
       "   mean fractal dimension  ...  worst texture  worst perimeter  worst area  \\\n",
       "0                 0.07871  ...          17.33           184.60      2019.0   \n",
       "1                 0.05667  ...          23.41           158.80      1956.0   \n",
       "2                 0.05999  ...          25.53           152.50      1709.0   \n",
       "3                 0.09744  ...          26.50            98.87       567.7   \n",
       "4                 0.05883  ...          16.67           152.20      1575.0   \n",
       "\n",
       "   worst smoothness  worst compactness  worst concavity  worst concave points  \\\n",
       "0            0.1622             0.6656           0.7119                0.2654   \n",
       "1            0.1238             0.1866           0.2416                0.1860   \n",
       "2            0.1444             0.4245           0.4504                0.2430   \n",
       "3            0.2098             0.8663           0.6869                0.2575   \n",
       "4            0.1374             0.2050           0.4000                0.1625   \n",
       "\n",
       "   worst symmetry  worst fractal dimension  target  \n",
       "0          0.4601                  0.11890       0  \n",
       "1          0.2750                  0.08902       0  \n",
       "2          0.3613                  0.08758       0  \n",
       "3          0.6638                  0.17300       0  \n",
       "4          0.2364                  0.07678       0  \n",
       "\n",
       "[5 rows x 31 columns]"
      ]
     },
     "execution_count": 12,
     "metadata": {},
     "output_type": "execute_result"
    }
   ],
   "source": [
    "data['target'] = df.target\n",
    "data.head()"
   ]
  },
  {
   "cell_type": "code",
   "execution_count": 9,
   "id": "1c02f517",
   "metadata": {},
   "outputs": [
    {
     "data": {
      "text/plain": [
       "array(['malignant', 'benign'], dtype='<U9')"
      ]
     },
     "execution_count": 9,
     "metadata": {},
     "output_type": "execute_result"
    }
   ],
   "source": [
    "df.target_names"
   ]
  },
  {
   "cell_type": "code",
   "execution_count": 10,
   "id": "e1da4e60",
   "metadata": {},
   "outputs": [
    {
     "data": {
      "text/plain": [
       "array([0, 1])"
      ]
     },
     "execution_count": 10,
     "metadata": {},
     "output_type": "execute_result"
    }
   ],
   "source": [
    "data['target'].unique()"
   ]
  },
  {
   "cell_type": "code",
   "execution_count": 16,
   "id": "c51a51b1",
   "metadata": {},
   "outputs": [
    {
     "data": {
      "text/plain": [
       "(569, 31)"
      ]
     },
     "execution_count": 16,
     "metadata": {},
     "output_type": "execute_result"
    }
   ],
   "source": [
    "#Exploratory Data Analysis\n",
    "data.shape"
   ]
  },
  {
   "cell_type": "code",
   "execution_count": 17,
   "id": "34329d3c",
   "metadata": {},
   "outputs": [
    {
     "data": {
      "text/plain": [
       "Index([], dtype='object')"
      ]
     },
     "execution_count": 17,
     "metadata": {},
     "output_type": "execute_result"
    }
   ],
   "source": [
    "#Categorical features\n",
    "cat_feat = data.select_dtypes(include='object')\n",
    "cat_feat.columns"
   ]
  },
  {
   "cell_type": "code",
   "execution_count": 18,
   "id": "57663612",
   "metadata": {},
   "outputs": [
    {
     "data": {
      "text/plain": [
       "Index(['mean radius', 'mean texture', 'mean perimeter', 'mean area',\n",
       "       'mean smoothness', 'mean compactness', 'mean concavity',\n",
       "       'mean concave points', 'mean symmetry', 'mean fractal dimension',\n",
       "       'radius error', 'texture error', 'perimeter error', 'area error',\n",
       "       'smoothness error', 'compactness error', 'concavity error',\n",
       "       'concave points error', 'symmetry error', 'fractal dimension error',\n",
       "       'worst radius', 'worst texture', 'worst perimeter', 'worst area',\n",
       "       'worst smoothness', 'worst compactness', 'worst concavity',\n",
       "       'worst concave points', 'worst symmetry', 'worst fractal dimension',\n",
       "       'target'],\n",
       "      dtype='object')"
      ]
     },
     "execution_count": 18,
     "metadata": {},
     "output_type": "execute_result"
    }
   ],
   "source": [
    "#Numerical features\n",
    "num_feat = data.select_dtypes(include='number')\n",
    "num_feat.columns"
   ]
  },
  {
   "cell_type": "code",
   "execution_count": 13,
   "id": "207ca369",
   "metadata": {},
   "outputs": [
    {
     "data": {
      "text/plain": [
       "mean radius                0\n",
       "mean texture               0\n",
       "mean perimeter             0\n",
       "mean area                  0\n",
       "mean smoothness            0\n",
       "mean compactness           0\n",
       "mean concavity             0\n",
       "mean concave points        0\n",
       "mean symmetry              0\n",
       "mean fractal dimension     0\n",
       "radius error               0\n",
       "texture error              0\n",
       "perimeter error            0\n",
       "area error                 0\n",
       "smoothness error           0\n",
       "compactness error          0\n",
       "concavity error            0\n",
       "concave points error       0\n",
       "symmetry error             0\n",
       "fractal dimension error    0\n",
       "worst radius               0\n",
       "worst texture              0\n",
       "worst perimeter            0\n",
       "worst area                 0\n",
       "worst smoothness           0\n",
       "worst compactness          0\n",
       "worst concavity            0\n",
       "worst concave points       0\n",
       "worst symmetry             0\n",
       "worst fractal dimension    0\n",
       "target                     0\n",
       "dtype: int64"
      ]
     },
     "execution_count": 13,
     "metadata": {},
     "output_type": "execute_result"
    }
   ],
   "source": [
    "#Null values\n",
    "data.isnull().sum()"
   ]
  },
  {
   "cell_type": "code",
   "execution_count": 15,
   "id": "b010f7af",
   "metadata": {},
   "outputs": [
    {
     "data": {
      "text/html": [
       "<div>\n",
       "<style scoped>\n",
       "    .dataframe tbody tr th:only-of-type {\n",
       "        vertical-align: middle;\n",
       "    }\n",
       "\n",
       "    .dataframe tbody tr th {\n",
       "        vertical-align: top;\n",
       "    }\n",
       "\n",
       "    .dataframe thead th {\n",
       "        text-align: right;\n",
       "    }\n",
       "</style>\n",
       "<table border=\"1\" class=\"dataframe\">\n",
       "  <thead>\n",
       "    <tr style=\"text-align: right;\">\n",
       "      <th></th>\n",
       "      <th>mean radius</th>\n",
       "      <th>mean texture</th>\n",
       "      <th>mean perimeter</th>\n",
       "      <th>mean area</th>\n",
       "      <th>mean smoothness</th>\n",
       "      <th>mean compactness</th>\n",
       "      <th>mean concavity</th>\n",
       "      <th>mean concave points</th>\n",
       "      <th>mean symmetry</th>\n",
       "      <th>mean fractal dimension</th>\n",
       "      <th>radius error</th>\n",
       "      <th>texture error</th>\n",
       "      <th>perimeter error</th>\n",
       "      <th>area error</th>\n",
       "      <th>smoothness error</th>\n",
       "      <th>compactness error</th>\n",
       "      <th>concavity error</th>\n",
       "      <th>concave points error</th>\n",
       "      <th>symmetry error</th>\n",
       "      <th>fractal dimension error</th>\n",
       "      <th>worst radius</th>\n",
       "      <th>worst texture</th>\n",
       "      <th>worst perimeter</th>\n",
       "      <th>worst area</th>\n",
       "      <th>worst smoothness</th>\n",
       "      <th>worst compactness</th>\n",
       "      <th>worst concavity</th>\n",
       "      <th>worst concave points</th>\n",
       "      <th>worst symmetry</th>\n",
       "      <th>worst fractal dimension</th>\n",
       "      <th>target</th>\n",
       "    </tr>\n",
       "  </thead>\n",
       "  <tbody>\n",
       "    <tr>\n",
       "      <th>count</th>\n",
       "      <td>569.000000</td>\n",
       "      <td>569.000000</td>\n",
       "      <td>569.000000</td>\n",
       "      <td>569.000000</td>\n",
       "      <td>569.000000</td>\n",
       "      <td>569.000000</td>\n",
       "      <td>569.000000</td>\n",
       "      <td>569.000000</td>\n",
       "      <td>569.000000</td>\n",
       "      <td>569.000000</td>\n",
       "      <td>569.000000</td>\n",
       "      <td>569.000000</td>\n",
       "      <td>569.000000</td>\n",
       "      <td>569.000000</td>\n",
       "      <td>569.000000</td>\n",
       "      <td>569.000000</td>\n",
       "      <td>569.000000</td>\n",
       "      <td>569.000000</td>\n",
       "      <td>569.000000</td>\n",
       "      <td>569.000000</td>\n",
       "      <td>569.000000</td>\n",
       "      <td>569.000000</td>\n",
       "      <td>569.000000</td>\n",
       "      <td>569.000000</td>\n",
       "      <td>569.000000</td>\n",
       "      <td>569.000000</td>\n",
       "      <td>569.000000</td>\n",
       "      <td>569.000000</td>\n",
       "      <td>569.000000</td>\n",
       "      <td>569.000000</td>\n",
       "      <td>569.000000</td>\n",
       "    </tr>\n",
       "    <tr>\n",
       "      <th>mean</th>\n",
       "      <td>14.127292</td>\n",
       "      <td>19.289649</td>\n",
       "      <td>91.969033</td>\n",
       "      <td>654.889104</td>\n",
       "      <td>0.096360</td>\n",
       "      <td>0.104341</td>\n",
       "      <td>0.088799</td>\n",
       "      <td>0.048919</td>\n",
       "      <td>0.181162</td>\n",
       "      <td>0.062798</td>\n",
       "      <td>0.405172</td>\n",
       "      <td>1.216853</td>\n",
       "      <td>2.866059</td>\n",
       "      <td>40.337079</td>\n",
       "      <td>0.007041</td>\n",
       "      <td>0.025478</td>\n",
       "      <td>0.031894</td>\n",
       "      <td>0.011796</td>\n",
       "      <td>0.020542</td>\n",
       "      <td>0.003795</td>\n",
       "      <td>16.269190</td>\n",
       "      <td>25.677223</td>\n",
       "      <td>107.261213</td>\n",
       "      <td>880.583128</td>\n",
       "      <td>0.132369</td>\n",
       "      <td>0.254265</td>\n",
       "      <td>0.272188</td>\n",
       "      <td>0.114606</td>\n",
       "      <td>0.290076</td>\n",
       "      <td>0.083946</td>\n",
       "      <td>0.627417</td>\n",
       "    </tr>\n",
       "    <tr>\n",
       "      <th>std</th>\n",
       "      <td>3.524049</td>\n",
       "      <td>4.301036</td>\n",
       "      <td>24.298981</td>\n",
       "      <td>351.914129</td>\n",
       "      <td>0.014064</td>\n",
       "      <td>0.052813</td>\n",
       "      <td>0.079720</td>\n",
       "      <td>0.038803</td>\n",
       "      <td>0.027414</td>\n",
       "      <td>0.007060</td>\n",
       "      <td>0.277313</td>\n",
       "      <td>0.551648</td>\n",
       "      <td>2.021855</td>\n",
       "      <td>45.491006</td>\n",
       "      <td>0.003003</td>\n",
       "      <td>0.017908</td>\n",
       "      <td>0.030186</td>\n",
       "      <td>0.006170</td>\n",
       "      <td>0.008266</td>\n",
       "      <td>0.002646</td>\n",
       "      <td>4.833242</td>\n",
       "      <td>6.146258</td>\n",
       "      <td>33.602542</td>\n",
       "      <td>569.356993</td>\n",
       "      <td>0.022832</td>\n",
       "      <td>0.157336</td>\n",
       "      <td>0.208624</td>\n",
       "      <td>0.065732</td>\n",
       "      <td>0.061867</td>\n",
       "      <td>0.018061</td>\n",
       "      <td>0.483918</td>\n",
       "    </tr>\n",
       "    <tr>\n",
       "      <th>min</th>\n",
       "      <td>6.981000</td>\n",
       "      <td>9.710000</td>\n",
       "      <td>43.790000</td>\n",
       "      <td>143.500000</td>\n",
       "      <td>0.052630</td>\n",
       "      <td>0.019380</td>\n",
       "      <td>0.000000</td>\n",
       "      <td>0.000000</td>\n",
       "      <td>0.106000</td>\n",
       "      <td>0.049960</td>\n",
       "      <td>0.111500</td>\n",
       "      <td>0.360200</td>\n",
       "      <td>0.757000</td>\n",
       "      <td>6.802000</td>\n",
       "      <td>0.001713</td>\n",
       "      <td>0.002252</td>\n",
       "      <td>0.000000</td>\n",
       "      <td>0.000000</td>\n",
       "      <td>0.007882</td>\n",
       "      <td>0.000895</td>\n",
       "      <td>7.930000</td>\n",
       "      <td>12.020000</td>\n",
       "      <td>50.410000</td>\n",
       "      <td>185.200000</td>\n",
       "      <td>0.071170</td>\n",
       "      <td>0.027290</td>\n",
       "      <td>0.000000</td>\n",
       "      <td>0.000000</td>\n",
       "      <td>0.156500</td>\n",
       "      <td>0.055040</td>\n",
       "      <td>0.000000</td>\n",
       "    </tr>\n",
       "    <tr>\n",
       "      <th>1%</th>\n",
       "      <td>8.458360</td>\n",
       "      <td>10.930400</td>\n",
       "      <td>53.827600</td>\n",
       "      <td>215.664000</td>\n",
       "      <td>0.068654</td>\n",
       "      <td>0.033351</td>\n",
       "      <td>0.000000</td>\n",
       "      <td>0.000000</td>\n",
       "      <td>0.129508</td>\n",
       "      <td>0.051504</td>\n",
       "      <td>0.119740</td>\n",
       "      <td>0.410548</td>\n",
       "      <td>0.953248</td>\n",
       "      <td>8.514440</td>\n",
       "      <td>0.003058</td>\n",
       "      <td>0.004705</td>\n",
       "      <td>0.000000</td>\n",
       "      <td>0.000000</td>\n",
       "      <td>0.010547</td>\n",
       "      <td>0.001114</td>\n",
       "      <td>9.207600</td>\n",
       "      <td>15.200800</td>\n",
       "      <td>58.270400</td>\n",
       "      <td>256.192000</td>\n",
       "      <td>0.087910</td>\n",
       "      <td>0.050094</td>\n",
       "      <td>0.000000</td>\n",
       "      <td>0.000000</td>\n",
       "      <td>0.176028</td>\n",
       "      <td>0.058580</td>\n",
       "      <td>0.000000</td>\n",
       "    </tr>\n",
       "    <tr>\n",
       "      <th>5%</th>\n",
       "      <td>9.529200</td>\n",
       "      <td>13.088000</td>\n",
       "      <td>60.496000</td>\n",
       "      <td>275.780000</td>\n",
       "      <td>0.075042</td>\n",
       "      <td>0.040660</td>\n",
       "      <td>0.004983</td>\n",
       "      <td>0.005621</td>\n",
       "      <td>0.141500</td>\n",
       "      <td>0.053926</td>\n",
       "      <td>0.160100</td>\n",
       "      <td>0.540140</td>\n",
       "      <td>1.132800</td>\n",
       "      <td>11.360000</td>\n",
       "      <td>0.003690</td>\n",
       "      <td>0.007892</td>\n",
       "      <td>0.003253</td>\n",
       "      <td>0.003831</td>\n",
       "      <td>0.011758</td>\n",
       "      <td>0.001522</td>\n",
       "      <td>10.534000</td>\n",
       "      <td>16.574000</td>\n",
       "      <td>67.856000</td>\n",
       "      <td>331.060000</td>\n",
       "      <td>0.095734</td>\n",
       "      <td>0.071196</td>\n",
       "      <td>0.018360</td>\n",
       "      <td>0.024286</td>\n",
       "      <td>0.212700</td>\n",
       "      <td>0.062558</td>\n",
       "      <td>0.000000</td>\n",
       "    </tr>\n",
       "    <tr>\n",
       "      <th>10%</th>\n",
       "      <td>10.260000</td>\n",
       "      <td>14.078000</td>\n",
       "      <td>65.830000</td>\n",
       "      <td>321.600000</td>\n",
       "      <td>0.079654</td>\n",
       "      <td>0.049700</td>\n",
       "      <td>0.013686</td>\n",
       "      <td>0.011158</td>\n",
       "      <td>0.149580</td>\n",
       "      <td>0.055338</td>\n",
       "      <td>0.183080</td>\n",
       "      <td>0.640400</td>\n",
       "      <td>1.280200</td>\n",
       "      <td>13.160000</td>\n",
       "      <td>0.004224</td>\n",
       "      <td>0.009169</td>\n",
       "      <td>0.007726</td>\n",
       "      <td>0.005493</td>\n",
       "      <td>0.013012</td>\n",
       "      <td>0.001710</td>\n",
       "      <td>11.234000</td>\n",
       "      <td>17.800000</td>\n",
       "      <td>72.178000</td>\n",
       "      <td>384.720000</td>\n",
       "      <td>0.102960</td>\n",
       "      <td>0.093676</td>\n",
       "      <td>0.045652</td>\n",
       "      <td>0.038460</td>\n",
       "      <td>0.226120</td>\n",
       "      <td>0.065792</td>\n",
       "      <td>0.000000</td>\n",
       "    </tr>\n",
       "    <tr>\n",
       "      <th>25%</th>\n",
       "      <td>11.700000</td>\n",
       "      <td>16.170000</td>\n",
       "      <td>75.170000</td>\n",
       "      <td>420.300000</td>\n",
       "      <td>0.086370</td>\n",
       "      <td>0.064920</td>\n",
       "      <td>0.029560</td>\n",
       "      <td>0.020310</td>\n",
       "      <td>0.161900</td>\n",
       "      <td>0.057700</td>\n",
       "      <td>0.232400</td>\n",
       "      <td>0.833900</td>\n",
       "      <td>1.606000</td>\n",
       "      <td>17.850000</td>\n",
       "      <td>0.005169</td>\n",
       "      <td>0.013080</td>\n",
       "      <td>0.015090</td>\n",
       "      <td>0.007638</td>\n",
       "      <td>0.015160</td>\n",
       "      <td>0.002248</td>\n",
       "      <td>13.010000</td>\n",
       "      <td>21.080000</td>\n",
       "      <td>84.110000</td>\n",
       "      <td>515.300000</td>\n",
       "      <td>0.116600</td>\n",
       "      <td>0.147200</td>\n",
       "      <td>0.114500</td>\n",
       "      <td>0.064930</td>\n",
       "      <td>0.250400</td>\n",
       "      <td>0.071460</td>\n",
       "      <td>0.000000</td>\n",
       "    </tr>\n",
       "    <tr>\n",
       "      <th>50%</th>\n",
       "      <td>13.370000</td>\n",
       "      <td>18.840000</td>\n",
       "      <td>86.240000</td>\n",
       "      <td>551.100000</td>\n",
       "      <td>0.095870</td>\n",
       "      <td>0.092630</td>\n",
       "      <td>0.061540</td>\n",
       "      <td>0.033500</td>\n",
       "      <td>0.179200</td>\n",
       "      <td>0.061540</td>\n",
       "      <td>0.324200</td>\n",
       "      <td>1.108000</td>\n",
       "      <td>2.287000</td>\n",
       "      <td>24.530000</td>\n",
       "      <td>0.006380</td>\n",
       "      <td>0.020450</td>\n",
       "      <td>0.025890</td>\n",
       "      <td>0.010930</td>\n",
       "      <td>0.018730</td>\n",
       "      <td>0.003187</td>\n",
       "      <td>14.970000</td>\n",
       "      <td>25.410000</td>\n",
       "      <td>97.660000</td>\n",
       "      <td>686.500000</td>\n",
       "      <td>0.131300</td>\n",
       "      <td>0.211900</td>\n",
       "      <td>0.226700</td>\n",
       "      <td>0.099930</td>\n",
       "      <td>0.282200</td>\n",
       "      <td>0.080040</td>\n",
       "      <td>1.000000</td>\n",
       "    </tr>\n",
       "    <tr>\n",
       "      <th>75%</th>\n",
       "      <td>15.780000</td>\n",
       "      <td>21.800000</td>\n",
       "      <td>104.100000</td>\n",
       "      <td>782.700000</td>\n",
       "      <td>0.105300</td>\n",
       "      <td>0.130400</td>\n",
       "      <td>0.130700</td>\n",
       "      <td>0.074000</td>\n",
       "      <td>0.195700</td>\n",
       "      <td>0.066120</td>\n",
       "      <td>0.478900</td>\n",
       "      <td>1.474000</td>\n",
       "      <td>3.357000</td>\n",
       "      <td>45.190000</td>\n",
       "      <td>0.008146</td>\n",
       "      <td>0.032450</td>\n",
       "      <td>0.042050</td>\n",
       "      <td>0.014710</td>\n",
       "      <td>0.023480</td>\n",
       "      <td>0.004558</td>\n",
       "      <td>18.790000</td>\n",
       "      <td>29.720000</td>\n",
       "      <td>125.400000</td>\n",
       "      <td>1084.000000</td>\n",
       "      <td>0.146000</td>\n",
       "      <td>0.339100</td>\n",
       "      <td>0.382900</td>\n",
       "      <td>0.161400</td>\n",
       "      <td>0.317900</td>\n",
       "      <td>0.092080</td>\n",
       "      <td>1.000000</td>\n",
       "    </tr>\n",
       "    <tr>\n",
       "      <th>90%</th>\n",
       "      <td>19.530000</td>\n",
       "      <td>24.992000</td>\n",
       "      <td>129.100000</td>\n",
       "      <td>1177.400000</td>\n",
       "      <td>0.114820</td>\n",
       "      <td>0.175460</td>\n",
       "      <td>0.203040</td>\n",
       "      <td>0.100420</td>\n",
       "      <td>0.214940</td>\n",
       "      <td>0.072266</td>\n",
       "      <td>0.748880</td>\n",
       "      <td>1.909400</td>\n",
       "      <td>5.123200</td>\n",
       "      <td>91.314000</td>\n",
       "      <td>0.010410</td>\n",
       "      <td>0.047602</td>\n",
       "      <td>0.058520</td>\n",
       "      <td>0.018688</td>\n",
       "      <td>0.030120</td>\n",
       "      <td>0.006185</td>\n",
       "      <td>23.682000</td>\n",
       "      <td>33.646000</td>\n",
       "      <td>157.740000</td>\n",
       "      <td>1673.000000</td>\n",
       "      <td>0.161480</td>\n",
       "      <td>0.447840</td>\n",
       "      <td>0.571320</td>\n",
       "      <td>0.208940</td>\n",
       "      <td>0.360080</td>\n",
       "      <td>0.106320</td>\n",
       "      <td>1.000000</td>\n",
       "    </tr>\n",
       "    <tr>\n",
       "      <th>95%</th>\n",
       "      <td>20.576000</td>\n",
       "      <td>27.150000</td>\n",
       "      <td>135.820000</td>\n",
       "      <td>1309.800000</td>\n",
       "      <td>0.118780</td>\n",
       "      <td>0.208700</td>\n",
       "      <td>0.243020</td>\n",
       "      <td>0.125740</td>\n",
       "      <td>0.230720</td>\n",
       "      <td>0.076090</td>\n",
       "      <td>0.959520</td>\n",
       "      <td>2.212000</td>\n",
       "      <td>7.041600</td>\n",
       "      <td>115.800000</td>\n",
       "      <td>0.012644</td>\n",
       "      <td>0.060578</td>\n",
       "      <td>0.078936</td>\n",
       "      <td>0.022884</td>\n",
       "      <td>0.034988</td>\n",
       "      <td>0.007960</td>\n",
       "      <td>25.640000</td>\n",
       "      <td>36.300000</td>\n",
       "      <td>171.640000</td>\n",
       "      <td>2009.600000</td>\n",
       "      <td>0.171840</td>\n",
       "      <td>0.564120</td>\n",
       "      <td>0.682380</td>\n",
       "      <td>0.236920</td>\n",
       "      <td>0.406160</td>\n",
       "      <td>0.119520</td>\n",
       "      <td>1.000000</td>\n",
       "    </tr>\n",
       "    <tr>\n",
       "      <th>99%</th>\n",
       "      <td>24.371600</td>\n",
       "      <td>30.652000</td>\n",
       "      <td>165.724000</td>\n",
       "      <td>1786.600000</td>\n",
       "      <td>0.132888</td>\n",
       "      <td>0.277192</td>\n",
       "      <td>0.351688</td>\n",
       "      <td>0.164208</td>\n",
       "      <td>0.259564</td>\n",
       "      <td>0.085438</td>\n",
       "      <td>1.291320</td>\n",
       "      <td>2.915440</td>\n",
       "      <td>9.690040</td>\n",
       "      <td>177.684000</td>\n",
       "      <td>0.017258</td>\n",
       "      <td>0.089872</td>\n",
       "      <td>0.122292</td>\n",
       "      <td>0.031194</td>\n",
       "      <td>0.052208</td>\n",
       "      <td>0.012650</td>\n",
       "      <td>30.762800</td>\n",
       "      <td>41.802400</td>\n",
       "      <td>208.304000</td>\n",
       "      <td>2918.160000</td>\n",
       "      <td>0.188908</td>\n",
       "      <td>0.778644</td>\n",
       "      <td>0.902380</td>\n",
       "      <td>0.269216</td>\n",
       "      <td>0.486908</td>\n",
       "      <td>0.140628</td>\n",
       "      <td>1.000000</td>\n",
       "    </tr>\n",
       "    <tr>\n",
       "      <th>max</th>\n",
       "      <td>28.110000</td>\n",
       "      <td>39.280000</td>\n",
       "      <td>188.500000</td>\n",
       "      <td>2501.000000</td>\n",
       "      <td>0.163400</td>\n",
       "      <td>0.345400</td>\n",
       "      <td>0.426800</td>\n",
       "      <td>0.201200</td>\n",
       "      <td>0.304000</td>\n",
       "      <td>0.097440</td>\n",
       "      <td>2.873000</td>\n",
       "      <td>4.885000</td>\n",
       "      <td>21.980000</td>\n",
       "      <td>542.200000</td>\n",
       "      <td>0.031130</td>\n",
       "      <td>0.135400</td>\n",
       "      <td>0.396000</td>\n",
       "      <td>0.052790</td>\n",
       "      <td>0.078950</td>\n",
       "      <td>0.029840</td>\n",
       "      <td>36.040000</td>\n",
       "      <td>49.540000</td>\n",
       "      <td>251.200000</td>\n",
       "      <td>4254.000000</td>\n",
       "      <td>0.222600</td>\n",
       "      <td>1.058000</td>\n",
       "      <td>1.252000</td>\n",
       "      <td>0.291000</td>\n",
       "      <td>0.663800</td>\n",
       "      <td>0.207500</td>\n",
       "      <td>1.000000</td>\n",
       "    </tr>\n",
       "  </tbody>\n",
       "</table>\n",
       "</div>"
      ],
      "text/plain": [
       "       mean radius  mean texture  mean perimeter    mean area  \\\n",
       "count   569.000000    569.000000      569.000000   569.000000   \n",
       "mean     14.127292     19.289649       91.969033   654.889104   \n",
       "std       3.524049      4.301036       24.298981   351.914129   \n",
       "min       6.981000      9.710000       43.790000   143.500000   \n",
       "1%        8.458360     10.930400       53.827600   215.664000   \n",
       "5%        9.529200     13.088000       60.496000   275.780000   \n",
       "10%      10.260000     14.078000       65.830000   321.600000   \n",
       "25%      11.700000     16.170000       75.170000   420.300000   \n",
       "50%      13.370000     18.840000       86.240000   551.100000   \n",
       "75%      15.780000     21.800000      104.100000   782.700000   \n",
       "90%      19.530000     24.992000      129.100000  1177.400000   \n",
       "95%      20.576000     27.150000      135.820000  1309.800000   \n",
       "99%      24.371600     30.652000      165.724000  1786.600000   \n",
       "max      28.110000     39.280000      188.500000  2501.000000   \n",
       "\n",
       "       mean smoothness  mean compactness  mean concavity  mean concave points  \\\n",
       "count       569.000000        569.000000      569.000000           569.000000   \n",
       "mean          0.096360          0.104341        0.088799             0.048919   \n",
       "std           0.014064          0.052813        0.079720             0.038803   \n",
       "min           0.052630          0.019380        0.000000             0.000000   \n",
       "1%            0.068654          0.033351        0.000000             0.000000   \n",
       "5%            0.075042          0.040660        0.004983             0.005621   \n",
       "10%           0.079654          0.049700        0.013686             0.011158   \n",
       "25%           0.086370          0.064920        0.029560             0.020310   \n",
       "50%           0.095870          0.092630        0.061540             0.033500   \n",
       "75%           0.105300          0.130400        0.130700             0.074000   \n",
       "90%           0.114820          0.175460        0.203040             0.100420   \n",
       "95%           0.118780          0.208700        0.243020             0.125740   \n",
       "99%           0.132888          0.277192        0.351688             0.164208   \n",
       "max           0.163400          0.345400        0.426800             0.201200   \n",
       "\n",
       "       mean symmetry  mean fractal dimension  radius error  texture error  \\\n",
       "count     569.000000              569.000000    569.000000     569.000000   \n",
       "mean        0.181162                0.062798      0.405172       1.216853   \n",
       "std         0.027414                0.007060      0.277313       0.551648   \n",
       "min         0.106000                0.049960      0.111500       0.360200   \n",
       "1%          0.129508                0.051504      0.119740       0.410548   \n",
       "5%          0.141500                0.053926      0.160100       0.540140   \n",
       "10%         0.149580                0.055338      0.183080       0.640400   \n",
       "25%         0.161900                0.057700      0.232400       0.833900   \n",
       "50%         0.179200                0.061540      0.324200       1.108000   \n",
       "75%         0.195700                0.066120      0.478900       1.474000   \n",
       "90%         0.214940                0.072266      0.748880       1.909400   \n",
       "95%         0.230720                0.076090      0.959520       2.212000   \n",
       "99%         0.259564                0.085438      1.291320       2.915440   \n",
       "max         0.304000                0.097440      2.873000       4.885000   \n",
       "\n",
       "       perimeter error  area error  smoothness error  compactness error  \\\n",
       "count       569.000000  569.000000        569.000000         569.000000   \n",
       "mean          2.866059   40.337079          0.007041           0.025478   \n",
       "std           2.021855   45.491006          0.003003           0.017908   \n",
       "min           0.757000    6.802000          0.001713           0.002252   \n",
       "1%            0.953248    8.514440          0.003058           0.004705   \n",
       "5%            1.132800   11.360000          0.003690           0.007892   \n",
       "10%           1.280200   13.160000          0.004224           0.009169   \n",
       "25%           1.606000   17.850000          0.005169           0.013080   \n",
       "50%           2.287000   24.530000          0.006380           0.020450   \n",
       "75%           3.357000   45.190000          0.008146           0.032450   \n",
       "90%           5.123200   91.314000          0.010410           0.047602   \n",
       "95%           7.041600  115.800000          0.012644           0.060578   \n",
       "99%           9.690040  177.684000          0.017258           0.089872   \n",
       "max          21.980000  542.200000          0.031130           0.135400   \n",
       "\n",
       "       concavity error  concave points error  symmetry error  \\\n",
       "count       569.000000            569.000000      569.000000   \n",
       "mean          0.031894              0.011796        0.020542   \n",
       "std           0.030186              0.006170        0.008266   \n",
       "min           0.000000              0.000000        0.007882   \n",
       "1%            0.000000              0.000000        0.010547   \n",
       "5%            0.003253              0.003831        0.011758   \n",
       "10%           0.007726              0.005493        0.013012   \n",
       "25%           0.015090              0.007638        0.015160   \n",
       "50%           0.025890              0.010930        0.018730   \n",
       "75%           0.042050              0.014710        0.023480   \n",
       "90%           0.058520              0.018688        0.030120   \n",
       "95%           0.078936              0.022884        0.034988   \n",
       "99%           0.122292              0.031194        0.052208   \n",
       "max           0.396000              0.052790        0.078950   \n",
       "\n",
       "       fractal dimension error  worst radius  worst texture  worst perimeter  \\\n",
       "count               569.000000    569.000000     569.000000       569.000000   \n",
       "mean                  0.003795     16.269190      25.677223       107.261213   \n",
       "std                   0.002646      4.833242       6.146258        33.602542   \n",
       "min                   0.000895      7.930000      12.020000        50.410000   \n",
       "1%                    0.001114      9.207600      15.200800        58.270400   \n",
       "5%                    0.001522     10.534000      16.574000        67.856000   \n",
       "10%                   0.001710     11.234000      17.800000        72.178000   \n",
       "25%                   0.002248     13.010000      21.080000        84.110000   \n",
       "50%                   0.003187     14.970000      25.410000        97.660000   \n",
       "75%                   0.004558     18.790000      29.720000       125.400000   \n",
       "90%                   0.006185     23.682000      33.646000       157.740000   \n",
       "95%                   0.007960     25.640000      36.300000       171.640000   \n",
       "99%                   0.012650     30.762800      41.802400       208.304000   \n",
       "max                   0.029840     36.040000      49.540000       251.200000   \n",
       "\n",
       "        worst area  worst smoothness  worst compactness  worst concavity  \\\n",
       "count   569.000000        569.000000         569.000000       569.000000   \n",
       "mean    880.583128          0.132369           0.254265         0.272188   \n",
       "std     569.356993          0.022832           0.157336         0.208624   \n",
       "min     185.200000          0.071170           0.027290         0.000000   \n",
       "1%      256.192000          0.087910           0.050094         0.000000   \n",
       "5%      331.060000          0.095734           0.071196         0.018360   \n",
       "10%     384.720000          0.102960           0.093676         0.045652   \n",
       "25%     515.300000          0.116600           0.147200         0.114500   \n",
       "50%     686.500000          0.131300           0.211900         0.226700   \n",
       "75%    1084.000000          0.146000           0.339100         0.382900   \n",
       "90%    1673.000000          0.161480           0.447840         0.571320   \n",
       "95%    2009.600000          0.171840           0.564120         0.682380   \n",
       "99%    2918.160000          0.188908           0.778644         0.902380   \n",
       "max    4254.000000          0.222600           1.058000         1.252000   \n",
       "\n",
       "       worst concave points  worst symmetry  worst fractal dimension  \\\n",
       "count            569.000000      569.000000               569.000000   \n",
       "mean               0.114606        0.290076                 0.083946   \n",
       "std                0.065732        0.061867                 0.018061   \n",
       "min                0.000000        0.156500                 0.055040   \n",
       "1%                 0.000000        0.176028                 0.058580   \n",
       "5%                 0.024286        0.212700                 0.062558   \n",
       "10%                0.038460        0.226120                 0.065792   \n",
       "25%                0.064930        0.250400                 0.071460   \n",
       "50%                0.099930        0.282200                 0.080040   \n",
       "75%                0.161400        0.317900                 0.092080   \n",
       "90%                0.208940        0.360080                 0.106320   \n",
       "95%                0.236920        0.406160                 0.119520   \n",
       "99%                0.269216        0.486908                 0.140628   \n",
       "max                0.291000        0.663800                 0.207500   \n",
       "\n",
       "           target  \n",
       "count  569.000000  \n",
       "mean     0.627417  \n",
       "std      0.483918  \n",
       "min      0.000000  \n",
       "1%       0.000000  \n",
       "5%       0.000000  \n",
       "10%      0.000000  \n",
       "25%      0.000000  \n",
       "50%      1.000000  \n",
       "75%      1.000000  \n",
       "90%      1.000000  \n",
       "95%      1.000000  \n",
       "99%      1.000000  \n",
       "max      1.000000  "
      ]
     },
     "execution_count": 15,
     "metadata": {},
     "output_type": "execute_result"
    }
   ],
   "source": [
    "#Outliers\n",
    "pd.set_option('display.max_columns', None)\n",
    "data.describe(percentiles=[0.01, 0.05, 0.1, 0.25, 0.5, 0.75, 0.9, 0.95, 0.99])"
   ]
  },
  {
   "cell_type": "code",
   "execution_count": 22,
   "id": "957e0c6c",
   "metadata": {},
   "outputs": [],
   "source": [
    "#Declare dependent and independent variables\n",
    "X = data.drop('target', axis = 1)\n",
    "y = data['target']"
   ]
  },
  {
   "cell_type": "code",
   "execution_count": 24,
   "id": "516dad93",
   "metadata": {},
   "outputs": [],
   "source": [
    "#split data into training and testing\n",
    "from sklearn.model_selection import train_test_split\n",
    "X_train, X_test, y_train, y_test = train_test_split(X, y, test_size=0.33, random_state=42)"
   ]
  },
  {
   "cell_type": "code",
   "execution_count": 26,
   "id": "2039aace",
   "metadata": {},
   "outputs": [],
   "source": [
    "#Feature Scaling\n",
    "from sklearn.preprocessing import StandardScaler\n",
    "scaler = StandardScaler()\n",
    "scaled_x_train = scaler.fit_transform(X_train)\n",
    "scaled_x_test = scaler.transform(X_test)"
   ]
  },
  {
   "cell_type": "code",
   "execution_count": 30,
   "id": "5481c4a3",
   "metadata": {},
   "outputs": [
    {
     "name": "stdout",
     "output_type": "stream",
     "text": [
      "(381, 30) (188, 30)\n"
     ]
    }
   ],
   "source": [
    "print(X_train.shape, X_test.shape)"
   ]
  },
  {
   "cell_type": "code",
   "execution_count": 47,
   "id": "651fc228",
   "metadata": {},
   "outputs": [
    {
     "name": "stdout",
     "output_type": "stream",
     "text": [
      "(188,) (381,)\n"
     ]
    }
   ],
   "source": [
    "print(y_test.shape, y_train.shape)"
   ]
  },
  {
   "cell_type": "code",
   "execution_count": null,
   "id": "856672d7",
   "metadata": {},
   "outputs": [],
   "source": [
    "scaled_features = pd.DataFrame(data = scaled_x_train, columns=data.)"
   ]
  },
  {
   "cell_type": "code",
   "execution_count": 28,
   "id": "093e5709",
   "metadata": {},
   "outputs": [
    {
     "data": {
      "text/plain": [
       "KNeighborsClassifier(n_neighbors=3)"
      ]
     },
     "execution_count": 28,
     "metadata": {},
     "output_type": "execute_result"
    }
   ],
   "source": [
    "#Model creation\n",
    "from sklearn.neighbors import KNeighborsClassifier\n",
    "neigh = KNeighborsClassifier(n_neighbors=3)\n",
    "neigh.fit(scaled_x_train, y_train)"
   ]
  },
  {
   "cell_type": "code",
   "execution_count": 33,
   "id": "93fcfdd0",
   "metadata": {},
   "outputs": [
    {
     "data": {
      "text/plain": [
       "0.9574468085106383"
      ]
     },
     "execution_count": 33,
     "metadata": {},
     "output_type": "execute_result"
    }
   ],
   "source": [
    "#Model Evaluation\n",
    "y_pred = neigh.predict(scaled_x_test)\n",
    "from sklearn.metrics import accuracy_score\n",
    "accuracy = accuracy_score(y_test, y_pred)\n",
    "accuracy"
   ]
  },
  {
   "cell_type": "code",
   "execution_count": 35,
   "id": "b6cd9f32",
   "metadata": {},
   "outputs": [
    {
     "data": {
      "text/plain": [
       "array([[ 63,   4],\n",
       "       [  4, 117]], dtype=int64)"
      ]
     },
     "execution_count": 35,
     "metadata": {},
     "output_type": "execute_result"
    }
   ],
   "source": [
    "#confusion matrix\n",
    "from sklearn.metrics import confusion_matrix\n",
    "cm = confusion_matrix(y_test, y_pred)\n",
    "cm"
   ]
  },
  {
   "cell_type": "code",
   "execution_count": 39,
   "id": "a0e843b0",
   "metadata": {},
   "outputs": [
    {
     "data": {
      "image/png": "[encoded data removed]",
      "text/plain": [
       "<Figure size 432x288 with 1 Axes>"
      ]
     },
     "metadata": {
      "needs_background": "light"
     },
     "output_type": "display_data"
    }
   ],
   "source": [
    "#Confusion matrix visualization\n",
    "sns.heatmap(cm, annot=True, cbar=False, linewidths=1, fmt='g')\n",
    "plt.title('Confusion matrix')\n",
    "plt.xlabel('Predicted values')\n",
    "plt.ylabel('Actual Values')\n",
    "plt.show()"
   ]
  },
  {
   "cell_type": "code",
   "execution_count": 42,
   "id": "b4286a07",
   "metadata": {},
   "outputs": [
    {
     "name": "stdout",
     "output_type": "stream",
     "text": [
      "              precision    recall  f1-score   support\n",
      "\n",
      "           0       0.94      0.94      0.94        67\n",
      "           1       0.97      0.97      0.97       121\n",
      "\n",
      "    accuracy                           0.96       188\n",
      "   macro avg       0.95      0.95      0.95       188\n",
      "weighted avg       0.96      0.96      0.96       188\n",
      "\n"
     ]
    }
   ],
   "source": [
    "#Classification Report\n",
    "from sklearn.metrics import classification_report\n",
    "print(classification_report(y_test, y_pred))"
   ]
  },
  {
   "cell_type": "code",
   "execution_count": 45,
   "id": "8f97e87b",
   "metadata": {},
   "outputs": [
    {
     "data": {
      "text/plain": [
       "array([0.8974359 , 0.94736842, 0.97368421, 0.97368421, 1.        ,\n",
       "       1.        , 0.97368421, 0.94736842, 0.86842105, 0.94736842])"
      ]
     },
     "execution_count": 45,
     "metadata": {},
     "output_type": "execute_result"
    }
   ],
   "source": [
    "#With cross validation\n",
    "from sklearn.model_selection import StratifiedKFold\n",
    "skf = StratifiedKFold(n_splits=10, shuffle=True, random_state=1)\n",
    "from sklearn.model_selection import cross_val_score\n",
    "cv_score = cross_val_score(neigh, scaled_x_train, y_train, cv=skf)\n",
    "cv_score"
   ]
  },
  {
   "cell_type": "code",
   "execution_count": 46,
   "id": "8f197add",
   "metadata": {},
   "outputs": [
    {
     "data": {
      "text/plain": [
       "0.9529014844804319"
      ]
     },
     "execution_count": 46,
     "metadata": {},
     "output_type": "execute_result"
    }
   ],
   "source": [
    "cv_score.mean()"
   ]
  },
  {
   "cell_type": "code",
   "execution_count": 96,
   "id": "f349ec74",
   "metadata": {},
   "outputs": [],
   "source": [
    "# Accuracy by fixing different k values\n",
    "accuracy_rate = []\n",
    "for i in range(1, 100):\n",
    "    neigh = KNeighborsClassifier(n_neighbors=i)\n",
    "    score =  cross_val_score(neigh, scaled_x_train, y_train, cv=10)\n",
    "    accuracy_rate.append(score.mean())"
   ]
  },
  {
   "cell_type": "code",
   "execution_count": 97,
   "id": "4b4e09c2",
   "metadata": {},
   "outputs": [
    {
     "data": {
      "image/png": "[encoded data removed]",
      "text/plain": [
       "<Figure size 1296x504 with 1 Axes>"
      ]
     },
     "metadata": {
      "needs_background": "light"
     },
     "output_type": "display_data"
    }
   ],
   "source": [
    "#Accuracy vs k value\n",
    "plt.figure(figsize=(18, 7))\n",
    "plt.title('Accuracy vs K value')\n",
    "plt.xlabel('K Value')\n",
    "plt.ylabel('Accuracy')\n",
    "plt.plot(range(1, 100), accuracy_rate, marker = 'o', markerfacecolor = 'red', color = 'grey')\n",
    "plt.show()"
   ]
  },
  {
   "cell_type": "code",
   "execution_count": 98,
   "id": "e303274b",
   "metadata": {},
   "outputs": [
    {
     "name": "stdout",
     "output_type": "stream",
     "text": [
      "[0.055128205128205154, 0.05769230769230771, 0.04197031039136301, 0.03940620782726045, 0.034143049932523595, 0.03151147098515528, 0.03151147098515528, 0.02624831309041853, 0.03157894736842104, 0.04203778677462888, 0.03947368421052633, 0.03421052631578958, 0.03421052631578936, 0.03421052631578936, 0.03947368421052633, 0.03947368421052633, 0.03947368421052633, 0.03947368421052633, 0.042105263157894646, 0.03684210526315801, 0.03947368421052633, 0.03684210526315801, 0.03684210526315801, 0.04210526315789487, 0.04730094466936574, 0.0446693657219972, 0.04203778677462888, 0.0446693657219972, 0.049865047233468296, 0.0446693657219972, 0.04460188933873144, 0.04203778677462888, 0.049865047233468296, 0.047233468286099756, 0.047233468286099756, 0.047233468286099756, 0.047233468286099756, 0.047233468286099756, 0.047233468286099756, 0.049865047233468296, 0.049865047233468296, 0.055128205128205154, 0.055128205128205154, 0.055128205128205154, 0.055128205128205154, 0.055128205128205154, 0.057759784075573584, 0.055128205128205154, 0.0603913630229419, 0.057759784075573584, 0.0603913630229419, 0.0603913630229419, 0.06295546558704446, 0.06295546558704446, 0.065587044534413, 0.06032388663967614, 0.06295546558704446, 0.06032388663967614, 0.065587044534413, 0.065587044534413, 0.065587044534413, 0.065587044534413, 0.06821862348178132, 0.065587044534413, 0.07085020242914974, 0.07085020242914974, 0.07348178137651806, 0.07348178137651806, 0.07874493927125492, 0.0761133603238866, 0.07874493927125514, 0.0761133603238866, 0.0761133603238866, 0.0761133603238866, 0.07874493927125492, 0.0761133603238866, 0.0761133603238866, 0.0761133603238866, 0.07874493927125514, 0.07874493927125514, 0.08137651821862346, 0.08137651821862346, 0.08137651821862346, 0.08137651821862346, 0.08137651821862346, 0.08137651821862346, 0.08137651821862346, 0.07874493927125514, 0.07874493927125514, 0.07874493927125514, 0.08137651821862346, 0.08137651821862346, 0.08137651821862346, 0.08137651821862346, 0.08137651821862346, 0.08137651821862346, 0.08400809716599189, 0.08400809716599189, 0.08400809716599189]\n"
     ]
    }
   ],
   "source": [
    "# Score by fixing different k values\n",
    "error_rate = []\n",
    "for i in range(1, 100):\n",
    "    neigh = KNeighborsClassifier(n_neighbors=i)\n",
    "    score =  cross_val_score(neigh, scaled_x_train, y_train, cv=10)\n",
    "    error_rate.append(1-score.mean())\n",
    "print(error_rate)"
   ]
  },
  {
   "cell_type": "code",
   "execution_count": 101,
   "id": "fd23be01",
   "metadata": {},
   "outputs": [
    {
     "data": {
      "text/plain": [
       "[<matplotlib.lines.Line2D at 0x238704101c0>]"
      ]
     },
     "execution_count": 101,
     "metadata": {},
     "output_type": "execute_result"
    },
    {
     "data": {
      "image/png": "[encoded data removed]",
      "text/plain": [
       "<Figure size 1296x504 with 1 Axes>"
      ]
     },
     "metadata": {
      "needs_background": "light"
     },
     "output_type": "display_data"
    }
   ],
   "source": [
    "plt.figure(figsize=(18, 7))\n",
    "plt.title('Error rate vs K value')\n",
    "plt.xlabel('K Value')\n",
    "plt.ylabel('Error rate')\n",
    "plt.plot(range(1, 100), error_rate, marker = 'o', markerfacecolor = 'red', color ='grey')"
   ]
  },
  {
   "cell_type": "code",
   "execution_count": 106,
   "id": "5e745611",
   "metadata": {},
   "outputs": [
    {
     "name": "stdout",
     "output_type": "stream",
     "text": [
      "[0.05851063829787234, 0.06382978723404255, 0.0425531914893617, 0.047872340425531915, 0.0425531914893617, 0.0425531914893617, 0.0425531914893617, 0.0425531914893617, 0.031914893617021274, 0.03723404255319149, 0.0425531914893617, 0.03723404255319149, 0.0425531914893617, 0.03723404255319149, 0.047872340425531915, 0.0425531914893617, 0.05319148936170213, 0.047872340425531915, 0.047872340425531915, 0.05319148936170213, 0.05851063829787234, 0.06382978723404255, 0.047872340425531915, 0.05319148936170213, 0.05319148936170213, 0.05851063829787234, 0.047872340425531915, 0.05319148936170213, 0.047872340425531915, 0.05851063829787234, 0.05851063829787234, 0.05851063829787234, 0.05851063829787234, 0.05851063829787234, 0.05851063829787234, 0.05851063829787234, 0.05851063829787234, 0.05851063829787234, 0.05319148936170213, 0.05319148936170213, 0.05319148936170213, 0.05319148936170213, 0.05319148936170213, 0.05319148936170213, 0.05319148936170213, 0.05319148936170213, 0.05319148936170213, 0.05851063829787234, 0.05851063829787234, 0.05851063829787234, 0.05319148936170213, 0.05319148936170213, 0.047872340425531915, 0.05319148936170213, 0.05319148936170213, 0.05319148936170213, 0.05319148936170213, 0.05319148936170213, 0.05851063829787234, 0.05319148936170213, 0.05851063829787234, 0.05319148936170213, 0.047872340425531915, 0.047872340425531915, 0.047872340425531915, 0.047872340425531915, 0.047872340425531915, 0.047872340425531915, 0.05319148936170213, 0.05319148936170213, 0.05319148936170213, 0.05319148936170213, 0.05319148936170213, 0.047872340425531915, 0.05319148936170213, 0.05319148936170213, 0.05319148936170213, 0.05319148936170213, 0.05319148936170213, 0.05319148936170213, 0.05851063829787234, 0.05851063829787234, 0.05851063829787234, 0.05851063829787234, 0.05851063829787234, 0.05851063829787234, 0.05851063829787234, 0.05851063829787234, 0.05851063829787234, 0.05851063829787234, 0.05851063829787234, 0.05851063829787234, 0.05851063829787234, 0.05851063829787234, 0.05851063829787234, 0.05851063829787234, 0.05851063829787234, 0.05851063829787234, 0.05851063829787234]\n"
     ]
    }
   ],
   "source": [
    "error_rate = []\n",
    "for i in range(1, 100):\n",
    "    neigh = KNeighborsClassifier(n_neighbors=i)\n",
    "    neigh.fit(scaled_x_train, y_train)\n",
    "    pred_i = neigh.predict(scaled_x_test)\n",
    "    error_rate.append(np.mean(pred_i!=y_test))\n",
    "print(error_rate)"
   ]
  },
  {
   "cell_type": "code",
   "execution_count": 107,
   "id": "72801273",
   "metadata": {},
   "outputs": [
    {
     "data": {
      "image/png": "[encoded data removed]",
      "text/plain": [
       "<Figure size 1296x504 with 1 Axes>"
      ]
     },
     "metadata": {
      "needs_background": "light"
     },
     "output_type": "display_data"
    }
   ],
   "source": [
    "plt.figure(figsize=(18, 7))\n",
    "plt.title('Error rate vs K value')\n",
    "plt.xlabel('K Value')\n",
    "plt.ylabel('Error rate')\n",
    "plt.plot(range(1, 100), error_rate, marker = 'o', markerfacecolor = 'red', color = 'grey')\n",
    "plt.show()"
   ]
  },
  {
   "cell_type": "code",
   "execution_count": 108,
   "id": "71083108",
   "metadata": {},
   "outputs": [
    {
     "data": {
      "text/plain": [
       "KNeighborsClassifier(n_neighbors=20)"
      ]
     },
     "execution_count": 108,
     "metadata": {},
     "output_type": "execute_result"
    }
   ],
   "source": [
    "#Model creation\n",
    "from sklearn.neighbors import KNeighborsClassifier\n",
    "final_model = KNeighborsClassifier(n_neighbors=20)\n",
    "final_model.fit(scaled_x_train, y_train)"
   ]
  },
  {
   "cell_type": "code",
   "execution_count": 109,
   "id": "5de4aeb9",
   "metadata": {},
   "outputs": [
    {
     "data": {
      "text/plain": [
       "0.9468085106382979"
      ]
     },
     "execution_count": 109,
     "metadata": {},
     "output_type": "execute_result"
    }
   ],
   "source": [
    "y_pred = final_model.predict(scaled_x_test)\n",
    "from sklearn.metrics import accuracy_score\n",
    "accuracy = accuracy_score(y_test, y_pred)\n",
    "accuracy"
   ]
  },
  {
   "cell_type": "code",
   "execution_count": 110,
   "id": "fd98c392",
   "metadata": {},
   "outputs": [
    {
     "data": {
      "text/plain": [
       "array([[ 60,   7],\n",
       "       [  3, 118]], dtype=int64)"
      ]
     },
     "execution_count": 110,
     "metadata": {},
     "output_type": "execute_result"
    }
   ],
   "source": [
    "#confusion matrix\n",
    "from sklearn.metrics import confusion_matrix\n",
    "cm = confusion_matrix(y_test, y_pred)\n",
    "cm"
   ]
  },
  {
   "cell_type": "code",
   "execution_count": 111,
   "id": "04c61f66",
   "metadata": {},
   "outputs": [
    {
     "data": {
      "image/png": "[encoded data removed]",
      "text/plain": [
       "<Figure size 432x288 with 1 Axes>"
      ]
     },
     "metadata": {
      "needs_background": "light"
     },
     "output_type": "display_data"
    }
   ],
   "source": [
    "#Confusion matrix visualization\n",
    "sns.heatmap(cm, annot=True, cbar=False, linewidths=1, fmt='g')\n",
    "plt.title('Confusion matrix')\n",
    "plt.xlabel('Predicted values')\n",
    "plt.ylabel('Actual Values')\n",
    "plt.show()"
   ]
  },
  {
   "cell_type": "code",
   "execution_count": 112,
   "id": "b806bda6",
   "metadata": {},
   "outputs": [
    {
     "name": "stdout",
     "output_type": "stream",
     "text": [
      "              precision    recall  f1-score   support\n",
      "\n",
      "           0       0.95      0.90      0.92        67\n",
      "           1       0.94      0.98      0.96       121\n",
      "\n",
      "    accuracy                           0.95       188\n",
      "   macro avg       0.95      0.94      0.94       188\n",
      "weighted avg       0.95      0.95      0.95       188\n",
      "\n"
     ]
    }
   ],
   "source": [
    "#Classification Report\n",
    "from sklearn.metrics import classification_report\n",
    "print(classification_report(y_test, y_pred))"
   ]
  },
  {
   "cell_type": "code",
   "execution_count": null,
   "id": "f133c901",
   "metadata": {},
   "outputs": [],
   "source": []
  }
 ],
 "metadata": {
  "kernelspec": {
   "display_name": "Python 3 (ipykernel)",
   "language": "python",
   "name": "python3"
  },
  "language_info": {
   "codemirror_mode": {
    "name": "ipython",
    "version": 3
   },
   "file_extension": ".py",
   "mimetype": "text/x-python",
   "name": "python",
   "nbconvert_exporter": "python",
   "pygments_lexer": "ipython3",
   "version": "3.9.7"
  }
 },
 "nbformat": 4,
 "nbformat_minor": 5
}
